{
 "cells": [
  {
   "cell_type": "code",
   "execution_count": null,
   "id": "b19730ef-8617-4b56-83d7-6a6c8418df2a",
   "metadata": {},
   "outputs": [],
   "source": [
    "import os\n",
    "import sys\n",
    "sys.path.append(os.path.join(os.path.dirname(os.getcwd()), 'src'))\n",
    "\n",
    "from pathlib import Path\n",
    "import shutil\n",
    "from tqdm import tqdm\n",
    "import cv2\n",
    "import numpy as np\n",
    "import matplotlib.pyplot as plt\n",
    "from image_similarity_measures.quality_metrics import *"
   ]
  },
  {
   "cell_type": "code",
   "execution_count": null,
   "id": "92204ee3-e853-4dce-90e2-82c1c144dcc3",
   "metadata": {},
   "outputs": [],
   "source": [
    "root_path = os.path.dirname(os.getcwd())\n",
    "data_path = os.path.join(root_path, \"data/multi_classed_grouped_data\")\n",
    "products = os.listdir(data_path)\n",
    "product = products[0]\n",
    "print(product)\n",
    "\n",
    "product_path = os.path.join(data_path, product)\n",
    "good_images_path = os.path.join(product_path, 'train')\n",
    "defect_images_path = os.path.join(product_path, 'test/defect')"
   ]
  },
  {
   "cell_type": "code",
   "execution_count": null,
   "id": "34268565-03f7-42c2-b183-8c61dd022112",
   "metadata": {},
   "outputs": [],
   "source": []
  }
 ],
 "metadata": {
  "kernelspec": {
   "display_name": "Python 3 (ipykernel)",
   "language": "python",
   "name": "python3"
  },
  "language_info": {
   "codemirror_mode": {
    "name": "ipython",
    "version": 3
   },
   "file_extension": ".py",
   "mimetype": "text/x-python",
   "name": "python",
   "nbconvert_exporter": "python",
   "pygments_lexer": "ipython3",
   "version": "3.8.10"
  }
 },
 "nbformat": 4,
 "nbformat_minor": 5
}

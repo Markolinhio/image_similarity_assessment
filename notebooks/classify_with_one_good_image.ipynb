{
 "cells": [
  {
   "cell_type": "code",
   "execution_count": 1,
   "id": "36a90e5b-5e49-40ae-8692-f08776e3ffe6",
   "metadata": {},
   "outputs": [],
   "source": [
    "import os\n",
    "import sys\n",
    "sys.path.append(os.path.join(os.path.dirname(os.getcwd()), 'src'))\n",
    "\n",
    "import matplotlib.pyplot as plt\n",
    "import numpy as np\n",
    "import random\n",
    "import cv2\n",
    "\n",
    "from sklearn.model_selection import train_test_split\n",
    "from sklearn.metrics import confusion_matrix, classification_report\n",
    "from utils import *\n",
    "from siamese import *\n",
    "from visualize_attributes import *\n",
    "plt.ioff()\n",
    "\n",
    "device = \"cuda\" if torch.cuda.is_available() else \"cpu\""
   ]
  },
  {
   "cell_type": "code",
   "execution_count": 2,
   "id": "f0c40935-ec8b-41be-b029-c0d6864e93ca",
   "metadata": {},
   "outputs": [
    {
     "name": "stdout",
     "output_type": "stream",
     "text": [
      "Using cuda\n",
      "---------------------------------------------- resnet18 ----------------------------------------------\n",
      "----------------------------------- bottle -----------------------------------\n",
      "/media/khoa-ys/Personal/Materials/Master's Thesis/image_similarity_assessment/models/bottle_siamese_resnet18_subclass_sampling.pth\n"
     ]
    },
    {
     "name": "stderr",
     "output_type": "stream",
     "text": [
      " 92%|█████████▏| 100/109 [00:13<00:00, 10.64it/s]/tmp/ipykernel_11921/1943467622.py:74: RuntimeWarning: More than 20 figures have been opened. Figures created through the pyplot interface (`matplotlib.pyplot.figure`) are retained until explicitly closed and may consume too much memory. (To control this warning, see the rcParam `figure.max_open_warning`). Consider using `matplotlib.pyplot.close()`.\n",
      "  fig, ax = plt.subplots(1, 2, figsize=(10, 5))\n",
      "100%|██████████| 109/109 [00:14<00:00,  7.45it/s]\n",
      "/tmp/ipykernel_11921/1943467622.py:116: UserWarning: Matplotlib is currently using module://matplotlib_inline.backend_inline, which is a non-GUI backend, so cannot show the figure.\n",
      "  fig.show()\n"
     ]
    },
    {
     "name": "stdout",
     "output_type": "stream",
     "text": [
      "----------------------------------- cable -----------------------------------\n",
      "/media/khoa-ys/Personal/Materials/Master's Thesis/image_similarity_assessment/models/cable_siamese_resnet18_subclass_sampling.pth\n"
     ]
    },
    {
     "name": "stderr",
     "output_type": "stream",
     "text": [
      "100%|██████████| 149/149 [00:16<00:00,  8.81it/s]\n"
     ]
    },
    {
     "name": "stdout",
     "output_type": "stream",
     "text": [
      "----------------------------------- capsule -----------------------------------\n",
      "/media/khoa-ys/Personal/Materials/Master's Thesis/image_similarity_assessment/models/capsule_siamese_resnet18_subclass_sampling.pth\n"
     ]
    },
    {
     "name": "stderr",
     "output_type": "stream",
     "text": [
      "100%|██████████| 158/158 [00:17<00:00,  8.80it/s]\n"
     ]
    },
    {
     "name": "stdout",
     "output_type": "stream",
     "text": [
      "----------------------------------- carpet -----------------------------------\n",
      "/media/khoa-ys/Personal/Materials/Master's Thesis/image_similarity_assessment/models/carpet_siamese_resnet18_subclass_sampling.pth\n"
     ]
    },
    {
     "name": "stderr",
     "output_type": "stream",
     "text": [
      "100%|██████████| 151/151 [00:19<00:00,  7.62it/s]\n"
     ]
    },
    {
     "name": "stdout",
     "output_type": "stream",
     "text": [
      "----------------------------------- grid -----------------------------------\n",
      "/media/khoa-ys/Personal/Materials/Master's Thesis/image_similarity_assessment/models/grid_siamese_resnet18_subclass_sampling.pth\n"
     ]
    },
    {
     "name": "stderr",
     "output_type": "stream",
     "text": [
      "100%|██████████| 114/114 [00:09<00:00, 12.00it/s]\n"
     ]
    },
    {
     "name": "stdout",
     "output_type": "stream",
     "text": [
      "----------------------------------- hazelnut -----------------------------------\n",
      "/media/khoa-ys/Personal/Materials/Master's Thesis/image_similarity_assessment/models/hazelnut_siamese_resnet18_subclass_sampling.pth\n"
     ]
    },
    {
     "name": "stderr",
     "output_type": "stream",
     "text": [
      "100%|██████████| 157/157 [00:17<00:00,  9.22it/s]\n"
     ]
    },
    {
     "name": "stdout",
     "output_type": "stream",
     "text": [
      "----------------------------------- leather -----------------------------------\n",
      "/media/khoa-ys/Personal/Materials/Master's Thesis/image_similarity_assessment/models/leather_siamese_resnet18_subclass_sampling.pth\n"
     ]
    },
    {
     "name": "stderr",
     "output_type": "stream",
     "text": [
      "100%|██████████| 148/148 [00:17<00:00,  8.50it/s]\n"
     ]
    },
    {
     "name": "stdout",
     "output_type": "stream",
     "text": [
      "----------------------------------- metal_nut -----------------------------------\n",
      "/media/khoa-ys/Personal/Materials/Master's Thesis/image_similarity_assessment/models/metal_nut_siamese_resnet18_subclass_sampling.pth\n"
     ]
    },
    {
     "name": "stderr",
     "output_type": "stream",
     "text": [
      "100%|██████████| 142/142 [00:13<00:00, 10.72it/s]\n"
     ]
    },
    {
     "name": "stdout",
     "output_type": "stream",
     "text": [
      "----------------------------------- pill -----------------------------------\n",
      "/media/khoa-ys/Personal/Materials/Master's Thesis/image_similarity_assessment/models/pill_siamese_resnet18_subclass_sampling.pth\n"
     ]
    },
    {
     "name": "stderr",
     "output_type": "stream",
     "text": [
      "100%|██████████| 200/200 [00:18<00:00, 10.80it/s]\n"
     ]
    },
    {
     "name": "stdout",
     "output_type": "stream",
     "text": [
      "----------------------------------- screw -----------------------------------\n",
      "/media/khoa-ys/Personal/Materials/Master's Thesis/image_similarity_assessment/models/screw_siamese_resnet18_subclass_sampling.pth\n"
     ]
    },
    {
     "name": "stderr",
     "output_type": "stream",
     "text": [
      "100%|██████████| 192/192 [00:15<00:00, 12.13it/s]\n"
     ]
    },
    {
     "name": "stdout",
     "output_type": "stream",
     "text": [
      "----------------------------------- tile -----------------------------------\n",
      "/media/khoa-ys/Personal/Materials/Master's Thesis/image_similarity_assessment/models/tile_siamese_resnet18_subclass_sampling.pth\n"
     ]
    },
    {
     "name": "stderr",
     "output_type": "stream",
     "text": [
      "100%|██████████| 137/137 [00:14<00:00,  9.31it/s]\n"
     ]
    },
    {
     "name": "stdout",
     "output_type": "stream",
     "text": [
      "----------------------------------- toothbrush -----------------------------------\n",
      "/media/khoa-ys/Personal/Materials/Master's Thesis/image_similarity_assessment/models/toothbrush_siamese_resnet18_subclass_sampling.pth\n"
     ]
    },
    {
     "name": "stderr",
     "output_type": "stream",
     "text": [
      "100%|██████████| 45/45 [00:04<00:00, 10.10it/s]\n"
     ]
    },
    {
     "name": "stdout",
     "output_type": "stream",
     "text": [
      "----------------------------------- transistor -----------------------------------\n",
      "/media/khoa-ys/Personal/Materials/Master's Thesis/image_similarity_assessment/models/transistor_siamese_resnet18_subclass_sampling.pth\n"
     ]
    },
    {
     "name": "stderr",
     "output_type": "stream",
     "text": [
      "100%|██████████| 95/95 [00:10<00:00,  9.35it/s]\n"
     ]
    },
    {
     "name": "stdout",
     "output_type": "stream",
     "text": [
      "----------------------------------- wood -----------------------------------\n",
      "/media/khoa-ys/Personal/Materials/Master's Thesis/image_similarity_assessment/models/wood_siamese_resnet18_subclass_sampling.pth\n"
     ]
    },
    {
     "name": "stderr",
     "output_type": "stream",
     "text": [
      "100%|██████████| 114/114 [00:14<00:00,  7.64it/s]\n"
     ]
    },
    {
     "name": "stdout",
     "output_type": "stream",
     "text": [
      "----------------------------------- zipper -----------------------------------\n",
      "/media/khoa-ys/Personal/Materials/Master's Thesis/image_similarity_assessment/models/zipper_siamese_resnet18_subclass_sampling.pth\n"
     ]
    },
    {
     "name": "stderr",
     "output_type": "stream",
     "text": [
      "100%|██████████| 174/174 [00:13<00:00, 12.56it/s]\n"
     ]
    },
    {
     "name": "stdout",
     "output_type": "stream",
     "text": [
      "---------------------------------------------- resnet34 ----------------------------------------------\n",
      "----------------------------------- bottle -----------------------------------\n",
      "/media/khoa-ys/Personal/Materials/Master's Thesis/image_similarity_assessment/models/bottle_siamese_resnet34_subclass_sampling.pth\n"
     ]
    },
    {
     "name": "stderr",
     "output_type": "stream",
     "text": [
      "100%|██████████| 109/109 [00:07<00:00, 14.04it/s]\n"
     ]
    },
    {
     "name": "stdout",
     "output_type": "stream",
     "text": [
      "----------------------------------- cable -----------------------------------\n",
      "/media/khoa-ys/Personal/Materials/Master's Thesis/image_similarity_assessment/models/cable_siamese_resnet34_subclass_sampling.pth\n"
     ]
    },
    {
     "name": "stderr",
     "output_type": "stream",
     "text": [
      "100%|██████████| 149/149 [00:14<00:00, 10.51it/s]\n"
     ]
    },
    {
     "name": "stdout",
     "output_type": "stream",
     "text": [
      "----------------------------------- capsule -----------------------------------\n",
      "/media/khoa-ys/Personal/Materials/Master's Thesis/image_similarity_assessment/models/capsule_siamese_resnet34_subclass_sampling.pth\n"
     ]
    },
    {
     "name": "stderr",
     "output_type": "stream",
     "text": [
      "100%|██████████| 158/158 [00:14<00:00, 11.09it/s]\n"
     ]
    },
    {
     "name": "stdout",
     "output_type": "stream",
     "text": [
      "----------------------------------- carpet -----------------------------------\n",
      "/media/khoa-ys/Personal/Materials/Master's Thesis/image_similarity_assessment/models/carpet_siamese_resnet34_subclass_sampling.pth\n"
     ]
    },
    {
     "name": "stderr",
     "output_type": "stream",
     "text": [
      "100%|██████████| 151/151 [00:12<00:00, 12.13it/s]\n"
     ]
    },
    {
     "name": "stdout",
     "output_type": "stream",
     "text": [
      "----------------------------------- grid -----------------------------------\n",
      "/media/khoa-ys/Personal/Materials/Master's Thesis/image_similarity_assessment/models/grid_siamese_resnet34_subclass_sampling.pth\n"
     ]
    },
    {
     "name": "stderr",
     "output_type": "stream",
     "text": [
      "100%|██████████| 114/114 [00:07<00:00, 15.14it/s]\n"
     ]
    },
    {
     "name": "stdout",
     "output_type": "stream",
     "text": [
      "----------------------------------- hazelnut -----------------------------------\n",
      "/media/khoa-ys/Personal/Materials/Master's Thesis/image_similarity_assessment/models/hazelnut_siamese_resnet34_subclass_sampling.pth\n"
     ]
    },
    {
     "name": "stderr",
     "output_type": "stream",
     "text": [
      "100%|██████████| 157/157 [00:14<00:00, 11.02it/s]\n"
     ]
    },
    {
     "name": "stdout",
     "output_type": "stream",
     "text": [
      "----------------------------------- leather -----------------------------------\n",
      "/media/khoa-ys/Personal/Materials/Master's Thesis/image_similarity_assessment/models/leather_siamese_resnet34_subclass_sampling.pth\n"
     ]
    },
    {
     "name": "stderr",
     "output_type": "stream",
     "text": [
      "100%|██████████| 148/148 [00:12<00:00, 12.09it/s]\n"
     ]
    },
    {
     "name": "stdout",
     "output_type": "stream",
     "text": [
      "----------------------------------- metal_nut -----------------------------------\n",
      "/media/khoa-ys/Personal/Materials/Master's Thesis/image_similarity_assessment/models/metal_nut_siamese_resnet34_subclass_sampling.pth\n"
     ]
    },
    {
     "name": "stderr",
     "output_type": "stream",
     "text": [
      "100%|██████████| 142/142 [00:10<00:00, 13.38it/s]\n"
     ]
    },
    {
     "name": "stdout",
     "output_type": "stream",
     "text": [
      "----------------------------------- pill -----------------------------------\n",
      "/media/khoa-ys/Personal/Materials/Master's Thesis/image_similarity_assessment/models/pill_siamese_resnet34_subclass_sampling.pth\n"
     ]
    },
    {
     "name": "stderr",
     "output_type": "stream",
     "text": [
      "100%|██████████| 200/200 [00:15<00:00, 13.04it/s]\n"
     ]
    },
    {
     "name": "stdout",
     "output_type": "stream",
     "text": [
      "----------------------------------- screw -----------------------------------\n",
      "/media/khoa-ys/Personal/Materials/Master's Thesis/image_similarity_assessment/models/screw_siamese_resnet34_subclass_sampling.pth\n"
     ]
    },
    {
     "name": "stderr",
     "output_type": "stream",
     "text": [
      "100%|██████████| 192/192 [00:12<00:00, 15.49it/s]\n"
     ]
    },
    {
     "name": "stdout",
     "output_type": "stream",
     "text": [
      "----------------------------------- tile -----------------------------------\n",
      "/media/khoa-ys/Personal/Materials/Master's Thesis/image_similarity_assessment/models/tile_siamese_resnet34_subclass_sampling.pth\n"
     ]
    },
    {
     "name": "stderr",
     "output_type": "stream",
     "text": [
      "100%|██████████| 137/137 [00:11<00:00, 11.45it/s]\n"
     ]
    },
    {
     "name": "stdout",
     "output_type": "stream",
     "text": [
      "----------------------------------- toothbrush -----------------------------------\n",
      "/media/khoa-ys/Personal/Materials/Master's Thesis/image_similarity_assessment/models/toothbrush_siamese_resnet34_subclass_sampling.pth\n"
     ]
    },
    {
     "name": "stderr",
     "output_type": "stream",
     "text": [
      "100%|██████████| 45/45 [00:03<00:00, 12.44it/s]\n"
     ]
    },
    {
     "name": "stdout",
     "output_type": "stream",
     "text": [
      "----------------------------------- transistor -----------------------------------\n",
      "/media/khoa-ys/Personal/Materials/Master's Thesis/image_similarity_assessment/models/transistor_siamese_resnet34_subclass_sampling.pth\n"
     ]
    },
    {
     "name": "stderr",
     "output_type": "stream",
     "text": [
      "100%|██████████| 95/95 [00:08<00:00, 11.82it/s]\n"
     ]
    },
    {
     "name": "stdout",
     "output_type": "stream",
     "text": [
      "----------------------------------- wood -----------------------------------\n",
      "/media/khoa-ys/Personal/Materials/Master's Thesis/image_similarity_assessment/models/wood_siamese_resnet34_subclass_sampling.pth\n"
     ]
    },
    {
     "name": "stderr",
     "output_type": "stream",
     "text": [
      "100%|██████████| 114/114 [00:10<00:00, 11.37it/s]\n"
     ]
    },
    {
     "name": "stdout",
     "output_type": "stream",
     "text": [
      "----------------------------------- zipper -----------------------------------\n",
      "/media/khoa-ys/Personal/Materials/Master's Thesis/image_similarity_assessment/models/zipper_siamese_resnet34_subclass_sampling.pth\n"
     ]
    },
    {
     "name": "stderr",
     "output_type": "stream",
     "text": [
      "100%|██████████| 174/174 [00:11<00:00, 14.84it/s]\n"
     ]
    },
    {
     "name": "stdout",
     "output_type": "stream",
     "text": [
      "---------------------------------------------- resnet50 ----------------------------------------------\n",
      "----------------------------------- bottle -----------------------------------\n",
      "No model for this backbone\n",
      "----------------------------------- cable -----------------------------------\n",
      "No model for this backbone\n",
      "----------------------------------- capsule -----------------------------------\n",
      "No model for this backbone\n",
      "----------------------------------- carpet -----------------------------------\n",
      "No model for this backbone\n",
      "----------------------------------- grid -----------------------------------\n",
      "No model for this backbone\n",
      "----------------------------------- hazelnut -----------------------------------\n",
      "No model for this backbone\n",
      "----------------------------------- leather -----------------------------------\n",
      "No model for this backbone\n",
      "----------------------------------- metal_nut -----------------------------------\n",
      "/media/khoa-ys/Personal/Materials/Master's Thesis/image_similarity_assessment/models/metal_nut_siamese_resnet50_subclass_sampling.pth\n"
     ]
    },
    {
     "name": "stderr",
     "output_type": "stream",
     "text": [
      "100%|██████████| 142/142 [00:13<00:00, 10.26it/s]\n"
     ]
    },
    {
     "name": "stdout",
     "output_type": "stream",
     "text": [
      "----------------------------------- pill -----------------------------------\n",
      "No model for this backbone\n",
      "----------------------------------- screw -----------------------------------\n",
      "No model for this backbone\n",
      "----------------------------------- tile -----------------------------------\n",
      "No model for this backbone\n",
      "----------------------------------- toothbrush -----------------------------------\n",
      "No model for this backbone\n",
      "----------------------------------- transistor -----------------------------------\n",
      "/media/khoa-ys/Personal/Materials/Master's Thesis/image_similarity_assessment/models/transistor_siamese_resnet50_subclass_sampling.pth\n"
     ]
    },
    {
     "name": "stderr",
     "output_type": "stream",
     "text": [
      "100%|██████████| 95/95 [00:09<00:00,  9.83it/s]\n"
     ]
    },
    {
     "name": "stdout",
     "output_type": "stream",
     "text": [
      "----------------------------------- wood -----------------------------------\n",
      "No model for this backbone\n",
      "----------------------------------- zipper -----------------------------------\n",
      "No model for this backbone\n",
      "---------------------------------------------- wide_resnet ----------------------------------------------\n",
      "----------------------------------- bottle -----------------------------------\n",
      "/media/khoa-ys/Personal/Materials/Master's Thesis/image_similarity_assessment/models/bottle_siamese_wide_resnet_subclass_sampling.pth\n"
     ]
    },
    {
     "name": "stderr",
     "output_type": "stream",
     "text": [
      "100%|██████████| 109/109 [08:24<00:00,  4.63s/it]\n"
     ]
    },
    {
     "name": "stdout",
     "output_type": "stream",
     "text": [
      "----------------------------------- cable -----------------------------------\n",
      "/media/khoa-ys/Personal/Materials/Master's Thesis/image_similarity_assessment/models/cable_siamese_wide_resnet_subclass_sampling.pth\n"
     ]
    },
    {
     "name": "stderr",
     "output_type": "stream",
     "text": [
      "100%|██████████| 149/149 [11:58<00:00,  4.82s/it]\n"
     ]
    },
    {
     "name": "stdout",
     "output_type": "stream",
     "text": [
      "----------------------------------- capsule -----------------------------------\n",
      "No model for this backbone\n",
      "----------------------------------- carpet -----------------------------------\n",
      "No model for this backbone\n",
      "----------------------------------- grid -----------------------------------\n",
      "No model for this backbone\n",
      "----------------------------------- hazelnut -----------------------------------\n",
      "No model for this backbone\n",
      "----------------------------------- leather -----------------------------------\n",
      "No model for this backbone\n",
      "----------------------------------- metal_nut -----------------------------------\n",
      "No model for this backbone\n",
      "----------------------------------- pill -----------------------------------\n",
      "No model for this backbone\n",
      "----------------------------------- screw -----------------------------------\n",
      "No model for this backbone\n",
      "----------------------------------- tile -----------------------------------\n",
      "No model for this backbone\n",
      "----------------------------------- toothbrush -----------------------------------\n",
      "No model for this backbone\n",
      "----------------------------------- transistor -----------------------------------\n",
      "No model for this backbone\n",
      "----------------------------------- wood -----------------------------------\n",
      "No model for this backbone\n",
      "----------------------------------- zipper -----------------------------------\n",
      "No model for this backbone\n",
      "---------------------------------------------- vgg ----------------------------------------------\n",
      "----------------------------------- bottle -----------------------------------\n",
      "/media/khoa-ys/Personal/Materials/Master's Thesis/image_similarity_assessment/models/bottle_siamese_vgg_subclass_sampling.pth\n"
     ]
    },
    {
     "name": "stderr",
     "output_type": "stream",
     "text": [
      "100%|██████████| 109/109 [02:19<00:00,  1.28s/it]\n"
     ]
    },
    {
     "name": "stdout",
     "output_type": "stream",
     "text": [
      "----------------------------------- cable -----------------------------------\n",
      "No model for this backbone\n",
      "----------------------------------- capsule -----------------------------------\n",
      "No model for this backbone\n",
      "----------------------------------- carpet -----------------------------------\n",
      "No model for this backbone\n",
      "----------------------------------- grid -----------------------------------\n",
      "No model for this backbone\n",
      "----------------------------------- hazelnut -----------------------------------\n",
      "No model for this backbone\n",
      "----------------------------------- leather -----------------------------------\n",
      "No model for this backbone\n",
      "----------------------------------- metal_nut -----------------------------------\n",
      "No model for this backbone\n",
      "----------------------------------- pill -----------------------------------\n",
      "No model for this backbone\n",
      "----------------------------------- screw -----------------------------------\n",
      "No model for this backbone\n",
      "----------------------------------- tile -----------------------------------\n",
      "No model for this backbone\n",
      "----------------------------------- toothbrush -----------------------------------\n",
      "No model for this backbone\n",
      "----------------------------------- transistor -----------------------------------\n",
      "No model for this backbone\n",
      "----------------------------------- wood -----------------------------------\n",
      "No model for this backbone\n",
      "----------------------------------- zipper -----------------------------------\n",
      "No model for this backbone\n"
     ]
    }
   ],
   "source": [
    "root_path = os.path.dirname(os.getcwd())\n",
    "data_path = os.path.join(root_path, \"data/multi_classed_grouped_data\")\n",
    "products = os.listdir(data_path)\n",
    "train = True\n",
    "visualize = True\n",
    "#products = ['bottle', 'hazelnut', 'metal_nut', 'toothbrush', 'transistor', 'leather', 'cable',  'zipper', 'wood']\n",
    "print(f\"Using {device}\")\n",
    "\n",
    "transform = transforms.Compose([transforms.ToTensor(),\n",
    "                            transforms.Resize((1024,1024), antialias=True)\n",
    "                            ])\n",
    "\n",
    "for backbone in ['resnet18', 'resnet34', 'resnet50', 'wide_resnet', 'vgg']:\n",
    "    print('---------------------------------------------- ' + backbone + ' ----------------------------------------------')\n",
    "    for product in products:\n",
    "        print('----------------------------------- ' + product + ' -----------------------------------')\n",
    "        model_path = os.path.join(root_path, 'models', product + '_siamese_' + backbone + '_subclass_sampling.pth')\n",
    "        if not os.path.exists(model_path):\n",
    "            print('No model for this backbone')\n",
    "            continue\n",
    "        if backbone in ['wide_resnet', 'vgg11']:\n",
    "            device = 'cpu'\n",
    "        print(model_path)\n",
    "        # Load data dicts\n",
    "        product_path = os.path.join(data_path, product)\n",
    "        json_path = os.path.join(root_path, 'data/augmented_train_test_split', product)\n",
    "        train_dict = json.load(open(os.path.join(json_path, product + '_train_dict.json'), 'r'))\n",
    "        test_dict = json.load(open(os.path.join(json_path, product + '_test_dict.json'), 'r'))\n",
    "\n",
    "        # Load model image\n",
    "        good_images_dict = dict([(image_path, label) for image_path, label in train_dict.items()\n",
    "                            if label == 1])\n",
    "        model_image_dict = {list(good_images_dict.items())[0][0] : list(good_images_dict.items())[0][1]}\n",
    "        \n",
    "        model_dataset = ProductDataset(model_image_dict, transform=transform)\n",
    "        model_dataloader = DataLoader(model_dataset, batch_size=1, shuffle=True)\n",
    "\n",
    "        model_image, _, model_label, _ = next(iter(model_dataloader))\n",
    "        model_label = model_label[0, 0]\n",
    "        \n",
    "        # Load model\n",
    "        n_classes = len(np.unique(list(train_dict.values())))\n",
    "        model = SiameseNetwork(n_classes, backbone=backbone)\n",
    "        \n",
    "        model.load_state_dict(torch.load(model_path))\n",
    "        model.eval()\n",
    "        \n",
    "        all_score = []\n",
    "        i = 0\n",
    "        for image_path in tqdm(list(test_dict.keys())):\n",
    "            image_dict = {image_path: test_dict[image_path]}\n",
    "            \n",
    "            test_dataset = ProductDataset(image_dict, transform=transform)\n",
    "            test_dataloader = DataLoader(test_dataset, batch_size=1, shuffle=True)\n",
    "            test_image, _, test_label, _ = next(iter(test_dataloader))\n",
    "            test_label = test_label[0, 0]\n",
    "            \n",
    "            all_distance = []\n",
    "            model.to(device)\n",
    "            \n",
    "            # print(model_label, test_label)\n",
    "            output_1, output_2 = model(model_image.to(device), test_image.to(device))\n",
    "            euclidean_distance = F.pairwise_distance(output_1, output_2, keepdim=True).item()\n",
    "            \n",
    "            all_score.append(np.array([1, int(test_label), 1 == int(test_label), euclidean_distance]))\n",
    "            # print(avg_distance)\n",
    "\n",
    "            if i % 5 == 0:\n",
    "                model_image_np = np.array(model_image[0].permute(1, 2, 0)*255, dtype=np.uint8)\n",
    "                test_image = np.array(test_image[0].permute(1, 2, 0)*255, dtype=np.uint8)\n",
    "                label_1 = \"good\"\n",
    "                label_2 = \"defect\" if test_label.numpy() == 0 else \"good\"\n",
    "                label = \"same class\" if label_1 == label_2 else \"different class\"\n",
    "                fig, ax = plt.subplots(1, 2, figsize=(10, 5))\n",
    "                ax[0].imshow(model_image_np[:,:,::-1])\n",
    "                ax[0].set_xlabel(label_1, weight = 'bold', fontsize = 20)\n",
    "                #ax[0].axis('off')\n",
    "                ax[1].imshow(test_image[:,:,::-1])\n",
    "                ax[1].set_xlabel(label_2, weight = 'bold', fontsize = 20)\n",
    "                #ax[1].axis('off')\n",
    "                fig.suptitle('Dissimilarity score: ' + str(euclidean_distance))\n",
    "                figure_name = product + '_siamese_' + backbone + '_visualize_' + str(i) + '_one_good_image.png'\n",
    "                figure_path = os.path.join(root_path, \n",
    "                        'Figure/visualize_inference/one_good_image', product)\n",
    "                if not os.path.exists(figure_path):\n",
    "                    os.mkdir(figure_path)\n",
    "                figure_path = os.path.join(figure_path, figure_name)\n",
    "                fig.savefig(figure_path)\n",
    "            i += 1\n",
    "        result = np.array(all_score)\n",
    "        score_path = os.path.join(root_path, 'result/similarity_scores', product + '_siamese_' + backbone + '_one_good_image.csv')\n",
    "        np.savetxt(score_path, result, delimiter=\",\")\n",
    "        \n",
    "        same_class = result[:,2]\n",
    "        if len(np.unique(same_class)) != 2:\n",
    "            print(np.unique(same_class))\n",
    "        similarity_scores = result[:,3]\n",
    "        \n",
    "        dissimillar_idx = np.where(same_class == 0.)\n",
    "        dissimillar_score = similarity_scores[dissimillar_idx]\n",
    "        simillar_idx = np.where(same_class == 1.)\n",
    "        simillar_score = similarity_scores[simillar_idx]\n",
    "        #print(dissimillar_idx, simillar_idx)\n",
    "        #print(dissimillar_score, simillar_score)\n",
    "        fig, ax = plt.subplots(1, 2, figsize=(16, 8))\n",
    "        ax[0].hist(simillar_score, edgecolor='black',)\n",
    "                   #bins=np.arange(simillar_score.min(), simillar_score.max(), 0.1))\n",
    "        ax[0].set_xlabel('Distance', fontsize = 10)\n",
    "        ax[0].set_ylabel('Number of instance', fontsize = 10)\n",
    "        ax[0].set_title(product + ': Similarity score distribution for images for GOOD class')\n",
    "        ax[1].hist(dissimillar_score, edgecolor='black',)\n",
    "                   #bins=np.arange(dissimillar_score.min(),dissimillar_score.max(), 0.1))\n",
    "        ax[1].set_xlabel('Distance', fontsize = 10)\n",
    "        ax[1].set_ylabel('Number of instance', fontsize = 10)\n",
    "        ax[1].set_title(product + ': Similarity score distribution for images for DEFECT class')\n",
    "        fig.show()\n",
    "\n",
    "        figure_name = product + '_siamese_' + backbone + '_similarity_score_distribution' + '_one_good_image.png'\n",
    "        figure_path = os.path.join(root_path, \n",
    "                'Figure/one_good_image_similarity_score_histogram/' + figure_name)\n",
    "        fig.savefig(figure_path)\n",
    "\n",
    "\n",
    "        # fig, ax = plt.subplots(1, 1, figsize=(16, 8))\n",
    "        # ax.hist(simillar_score, edgecolor='black', label = 'good')\n",
    "        # ax.hist(dissimillar_score, alpha=0.4, edgecolor='black', label = 'defect')\n",
    "        #            #bins=np.arange(dissimillar_score.min(),dissimillar_score.max(), 0.1))\n",
    "        # ax.set_xlabel('Distance', fontsize = 10)\n",
    "        # ax.set_ylabel('Number of instance', fontsize = 10)\n",
    "        # ax.set_title(product + ': Similarity score distribution of both GOOD and DEFECT')\n",
    "        # ax.legend()\n",
    "        # figure_name = product + '_siamese_' + backbone + 'all_similarity_score_distribution' + '_embedded_scoring.png'\n",
    "        # figure_path = os.path.join(root_path, \n",
    "        #         'Figure/embedded_similarity_score_histogram/' + figure_name)\n",
    "        # fig.savefig(figure_path)"
   ]
  }
 ],
 "metadata": {
  "kernelspec": {
   "display_name": "Python 3 (ipykernel)",
   "language": "python",
   "name": "python3"
  },
  "language_info": {
   "codemirror_mode": {
    "name": "ipython",
    "version": 3
   },
   "file_extension": ".py",
   "mimetype": "text/x-python",
   "name": "python",
   "nbconvert_exporter": "python",
   "pygments_lexer": "ipython3",
   "version": "3.8.10"
  }
 },
 "nbformat": 4,
 "nbformat_minor": 5
}
